{
 "cells": [
  {
   "cell_type": "code",
   "execution_count": 1,
   "metadata": {
    "_uuid": "0ecef03f2ea28bef94f6932a249fc962a33559ff"
   },
   "outputs": [],
   "source": [
    "import sys"
   ]
  },
  {
   "cell_type": "code",
   "execution_count": 2,
   "metadata": {
    "_uuid": "26a7b173d3d711fc13f8b49e8e26bc05022b7d40"
   },
   "outputs": [
    {
     "name": "stdout",
     "output_type": "stream",
     "text": [
      "/home/paperspace/fastai\n"
     ]
    }
   ],
   "source": [
    "cd '/home/paperspace/fastai'"
   ]
  },
  {
   "cell_type": "code",
   "execution_count": 3,
   "metadata": {
    "_uuid": "1b7c60bafffa4d60f7c944307e01f4218027b08d"
   },
   "outputs": [],
   "source": [
    "sys.path.append(\"../../fastai/\")"
   ]
  },
  {
   "cell_type": "code",
   "execution_count": 4,
   "metadata": {
    "_uuid": "7a9317956192e6943f52611b0887f34273d9a8ff"
   },
   "outputs": [],
   "source": [
    "from fastai.structured import *\n",
    "from fastai.column_data import *"
   ]
  },
  {
   "cell_type": "code",
   "execution_count": 5,
   "metadata": {
    "_uuid": "83733262e85e8fba3576966ed1f651a71a09971b"
   },
   "outputs": [],
   "source": [
    "import pandas as pd\n",
    "import numpy as np"
   ]
  },
  {
   "cell_type": "code",
   "execution_count": 6,
   "metadata": {
    "_uuid": "addc72b139fc90cee90de3dc974313a01e4bb9f2"
   },
   "outputs": [
    {
     "name": "stdout",
     "output_type": "stream",
     "text": [
      "/home/paperspace/santander\n"
     ]
    }
   ],
   "source": [
    "cd '/home/paperspace/santander/'"
   ]
  },
  {
   "cell_type": "code",
   "execution_count": 7,
   "metadata": {
    "_uuid": "147f54fb1c3460aac4fa9d83fa3c9f2eea8ba376"
   },
   "outputs": [
    {
     "name": "stdout",
     "output_type": "stream",
     "text": [
      "\u001b[0m\u001b[01;34mmodels\u001b[0m/                santander1.ipynb         test.csv  train.csv\r\n",
      "sample_submission.csv  santander_updated.ipynb  \u001b[01;34mtmp\u001b[0m/\r\n"
     ]
    }
   ],
   "source": [
    "ls"
   ]
  },
  {
   "cell_type": "code",
   "execution_count": 8,
   "metadata": {
    "_uuid": "858eee4d42e082eb73018769f2f53408e5ac6df5"
   },
   "outputs": [],
   "source": [
    "PATH = '/home/paperspace/santander/'"
   ]
  },
  {
   "cell_type": "code",
   "execution_count": 9,
   "metadata": {
    "_uuid": "5c3cfc11623ff2c2f7c485cdf794602a9f22780b",
    "scrolled": true
   },
   "outputs": [],
   "source": [
    "table_names = ['train', 'test', 'sample_submission']\n",
    "tables = [pd.read_csv(f'{PATH}{fname}.csv', low_memory=False) for fname in table_names]"
   ]
  },
  {
   "cell_type": "code",
   "execution_count": 10,
   "metadata": {
    "_uuid": "98a2db6588a36af41bf3c8e3e4043ffc33038b2d"
   },
   "outputs": [],
   "source": [
    "from IPython.display import HTML, display"
   ]
  },
  {
   "cell_type": "code",
   "execution_count": 11,
   "metadata": {
    "_uuid": "b7240abf02c74930db5d28ce6052949c873fd77b"
   },
   "outputs": [
    {
     "data": {
      "text/html": [
       "<div>\n",
       "<style scoped>\n",
       "    .dataframe tbody tr th:only-of-type {\n",
       "        vertical-align: middle;\n",
       "    }\n",
       "\n",
       "    .dataframe tbody tr th {\n",
       "        vertical-align: top;\n",
       "    }\n",
       "\n",
       "    .dataframe thead th {\n",
       "        text-align: right;\n",
       "    }\n",
       "</style>\n",
       "<table border=\"1\" class=\"dataframe\">\n",
       "  <thead>\n",
       "    <tr style=\"text-align: right;\">\n",
       "      <th></th>\n",
       "      <th>ID</th>\n",
       "      <th>target</th>\n",
       "      <th>48df886f9</th>\n",
       "      <th>0deb4b6a8</th>\n",
       "      <th>34b15f335</th>\n",
       "      <th>a8cb14b00</th>\n",
       "      <th>2f0771a37</th>\n",
       "      <th>30347e683</th>\n",
       "      <th>d08d1fbe3</th>\n",
       "      <th>6ee66e115</th>\n",
       "      <th>...</th>\n",
       "      <th>3ecc09859</th>\n",
       "      <th>9281abeea</th>\n",
       "      <th>8675bec0b</th>\n",
       "      <th>3a13ed79a</th>\n",
       "      <th>f677d4d13</th>\n",
       "      <th>71b203550</th>\n",
       "      <th>137efaa80</th>\n",
       "      <th>fb36b89d9</th>\n",
       "      <th>7e293fbaf</th>\n",
       "      <th>9fc776466</th>\n",
       "    </tr>\n",
       "  </thead>\n",
       "  <tbody>\n",
       "    <tr>\n",
       "      <th>0</th>\n",
       "      <td>000d6aaf2</td>\n",
       "      <td>38000000.0</td>\n",
       "      <td>0.0</td>\n",
       "      <td>0</td>\n",
       "      <td>0.0</td>\n",
       "      <td>0</td>\n",
       "      <td>0</td>\n",
       "      <td>0</td>\n",
       "      <td>0</td>\n",
       "      <td>0</td>\n",
       "      <td>...</td>\n",
       "      <td>0.0</td>\n",
       "      <td>0.0</td>\n",
       "      <td>0.0</td>\n",
       "      <td>0</td>\n",
       "      <td>0</td>\n",
       "      <td>0</td>\n",
       "      <td>0</td>\n",
       "      <td>0</td>\n",
       "      <td>0</td>\n",
       "      <td>0</td>\n",
       "    </tr>\n",
       "    <tr>\n",
       "      <th>1</th>\n",
       "      <td>000fbd867</td>\n",
       "      <td>600000.0</td>\n",
       "      <td>0.0</td>\n",
       "      <td>0</td>\n",
       "      <td>0.0</td>\n",
       "      <td>0</td>\n",
       "      <td>0</td>\n",
       "      <td>0</td>\n",
       "      <td>0</td>\n",
       "      <td>0</td>\n",
       "      <td>...</td>\n",
       "      <td>0.0</td>\n",
       "      <td>0.0</td>\n",
       "      <td>0.0</td>\n",
       "      <td>0</td>\n",
       "      <td>0</td>\n",
       "      <td>0</td>\n",
       "      <td>0</td>\n",
       "      <td>0</td>\n",
       "      <td>0</td>\n",
       "      <td>0</td>\n",
       "    </tr>\n",
       "    <tr>\n",
       "      <th>2</th>\n",
       "      <td>0027d6b71</td>\n",
       "      <td>10000000.0</td>\n",
       "      <td>0.0</td>\n",
       "      <td>0</td>\n",
       "      <td>0.0</td>\n",
       "      <td>0</td>\n",
       "      <td>0</td>\n",
       "      <td>0</td>\n",
       "      <td>0</td>\n",
       "      <td>0</td>\n",
       "      <td>...</td>\n",
       "      <td>0.0</td>\n",
       "      <td>0.0</td>\n",
       "      <td>0.0</td>\n",
       "      <td>0</td>\n",
       "      <td>0</td>\n",
       "      <td>0</td>\n",
       "      <td>0</td>\n",
       "      <td>0</td>\n",
       "      <td>0</td>\n",
       "      <td>0</td>\n",
       "    </tr>\n",
       "    <tr>\n",
       "      <th>3</th>\n",
       "      <td>0028cbf45</td>\n",
       "      <td>2000000.0</td>\n",
       "      <td>0.0</td>\n",
       "      <td>0</td>\n",
       "      <td>0.0</td>\n",
       "      <td>0</td>\n",
       "      <td>0</td>\n",
       "      <td>0</td>\n",
       "      <td>0</td>\n",
       "      <td>0</td>\n",
       "      <td>...</td>\n",
       "      <td>0.0</td>\n",
       "      <td>0.0</td>\n",
       "      <td>0.0</td>\n",
       "      <td>0</td>\n",
       "      <td>0</td>\n",
       "      <td>0</td>\n",
       "      <td>0</td>\n",
       "      <td>0</td>\n",
       "      <td>0</td>\n",
       "      <td>0</td>\n",
       "    </tr>\n",
       "    <tr>\n",
       "      <th>4</th>\n",
       "      <td>002a68644</td>\n",
       "      <td>14400000.0</td>\n",
       "      <td>0.0</td>\n",
       "      <td>0</td>\n",
       "      <td>0.0</td>\n",
       "      <td>0</td>\n",
       "      <td>0</td>\n",
       "      <td>0</td>\n",
       "      <td>0</td>\n",
       "      <td>0</td>\n",
       "      <td>...</td>\n",
       "      <td>0.0</td>\n",
       "      <td>0.0</td>\n",
       "      <td>0.0</td>\n",
       "      <td>0</td>\n",
       "      <td>0</td>\n",
       "      <td>0</td>\n",
       "      <td>0</td>\n",
       "      <td>0</td>\n",
       "      <td>0</td>\n",
       "      <td>0</td>\n",
       "    </tr>\n",
       "  </tbody>\n",
       "</table>\n",
       "<p>5 rows × 4993 columns</p>\n",
       "</div>"
      ],
      "text/plain": [
       "          ID      target  48df886f9  0deb4b6a8  34b15f335  a8cb14b00  \\\n",
       "0  000d6aaf2  38000000.0        0.0          0        0.0          0   \n",
       "1  000fbd867    600000.0        0.0          0        0.0          0   \n",
       "2  0027d6b71  10000000.0        0.0          0        0.0          0   \n",
       "3  0028cbf45   2000000.0        0.0          0        0.0          0   \n",
       "4  002a68644  14400000.0        0.0          0        0.0          0   \n",
       "\n",
       "   2f0771a37  30347e683  d08d1fbe3  6ee66e115    ...      3ecc09859  \\\n",
       "0          0          0          0          0    ...            0.0   \n",
       "1          0          0          0          0    ...            0.0   \n",
       "2          0          0          0          0    ...            0.0   \n",
       "3          0          0          0          0    ...            0.0   \n",
       "4          0          0          0          0    ...            0.0   \n",
       "\n",
       "   9281abeea  8675bec0b  3a13ed79a  f677d4d13  71b203550  137efaa80  \\\n",
       "0        0.0        0.0          0          0          0          0   \n",
       "1        0.0        0.0          0          0          0          0   \n",
       "2        0.0        0.0          0          0          0          0   \n",
       "3        0.0        0.0          0          0          0          0   \n",
       "4        0.0        0.0          0          0          0          0   \n",
       "\n",
       "   fb36b89d9  7e293fbaf  9fc776466  \n",
       "0          0          0          0  \n",
       "1          0          0          0  \n",
       "2          0          0          0  \n",
       "3          0          0          0  \n",
       "4          0          0          0  \n",
       "\n",
       "[5 rows x 4993 columns]"
      ]
     },
     "metadata": {},
     "output_type": "display_data"
    },
    {
     "data": {
      "text/html": [
       "<div>\n",
       "<style scoped>\n",
       "    .dataframe tbody tr th:only-of-type {\n",
       "        vertical-align: middle;\n",
       "    }\n",
       "\n",
       "    .dataframe tbody tr th {\n",
       "        vertical-align: top;\n",
       "    }\n",
       "\n",
       "    .dataframe thead th {\n",
       "        text-align: right;\n",
       "    }\n",
       "</style>\n",
       "<table border=\"1\" class=\"dataframe\">\n",
       "  <thead>\n",
       "    <tr style=\"text-align: right;\">\n",
       "      <th></th>\n",
       "      <th>ID</th>\n",
       "      <th>48df886f9</th>\n",
       "      <th>0deb4b6a8</th>\n",
       "      <th>34b15f335</th>\n",
       "      <th>a8cb14b00</th>\n",
       "      <th>2f0771a37</th>\n",
       "      <th>30347e683</th>\n",
       "      <th>d08d1fbe3</th>\n",
       "      <th>6ee66e115</th>\n",
       "      <th>20aa07010</th>\n",
       "      <th>...</th>\n",
       "      <th>3ecc09859</th>\n",
       "      <th>9281abeea</th>\n",
       "      <th>8675bec0b</th>\n",
       "      <th>3a13ed79a</th>\n",
       "      <th>f677d4d13</th>\n",
       "      <th>71b203550</th>\n",
       "      <th>137efaa80</th>\n",
       "      <th>fb36b89d9</th>\n",
       "      <th>7e293fbaf</th>\n",
       "      <th>9fc776466</th>\n",
       "    </tr>\n",
       "  </thead>\n",
       "  <tbody>\n",
       "    <tr>\n",
       "      <th>0</th>\n",
       "      <td>000137c73</td>\n",
       "      <td>0.0</td>\n",
       "      <td>0.0</td>\n",
       "      <td>0.0</td>\n",
       "      <td>0.0</td>\n",
       "      <td>0.0</td>\n",
       "      <td>0.0</td>\n",
       "      <td>0.0</td>\n",
       "      <td>0.0</td>\n",
       "      <td>0.0</td>\n",
       "      <td>...</td>\n",
       "      <td>0.0</td>\n",
       "      <td>0.0</td>\n",
       "      <td>0.0</td>\n",
       "      <td>0.0</td>\n",
       "      <td>0.0</td>\n",
       "      <td>0.0</td>\n",
       "      <td>0.0</td>\n",
       "      <td>0.0</td>\n",
       "      <td>0.0</td>\n",
       "      <td>0.0</td>\n",
       "    </tr>\n",
       "    <tr>\n",
       "      <th>1</th>\n",
       "      <td>00021489f</td>\n",
       "      <td>0.0</td>\n",
       "      <td>0.0</td>\n",
       "      <td>0.0</td>\n",
       "      <td>0.0</td>\n",
       "      <td>0.0</td>\n",
       "      <td>0.0</td>\n",
       "      <td>0.0</td>\n",
       "      <td>0.0</td>\n",
       "      <td>0.0</td>\n",
       "      <td>...</td>\n",
       "      <td>0.0</td>\n",
       "      <td>0.0</td>\n",
       "      <td>0.0</td>\n",
       "      <td>0.0</td>\n",
       "      <td>0.0</td>\n",
       "      <td>0.0</td>\n",
       "      <td>0.0</td>\n",
       "      <td>0.0</td>\n",
       "      <td>0.0</td>\n",
       "      <td>0.0</td>\n",
       "    </tr>\n",
       "    <tr>\n",
       "      <th>2</th>\n",
       "      <td>0004d7953</td>\n",
       "      <td>0.0</td>\n",
       "      <td>0.0</td>\n",
       "      <td>0.0</td>\n",
       "      <td>0.0</td>\n",
       "      <td>0.0</td>\n",
       "      <td>0.0</td>\n",
       "      <td>0.0</td>\n",
       "      <td>0.0</td>\n",
       "      <td>0.0</td>\n",
       "      <td>...</td>\n",
       "      <td>0.0</td>\n",
       "      <td>0.0</td>\n",
       "      <td>0.0</td>\n",
       "      <td>0.0</td>\n",
       "      <td>0.0</td>\n",
       "      <td>0.0</td>\n",
       "      <td>0.0</td>\n",
       "      <td>0.0</td>\n",
       "      <td>0.0</td>\n",
       "      <td>0.0</td>\n",
       "    </tr>\n",
       "    <tr>\n",
       "      <th>3</th>\n",
       "      <td>00056a333</td>\n",
       "      <td>0.0</td>\n",
       "      <td>0.0</td>\n",
       "      <td>0.0</td>\n",
       "      <td>0.0</td>\n",
       "      <td>0.0</td>\n",
       "      <td>0.0</td>\n",
       "      <td>0.0</td>\n",
       "      <td>0.0</td>\n",
       "      <td>0.0</td>\n",
       "      <td>...</td>\n",
       "      <td>0.0</td>\n",
       "      <td>0.0</td>\n",
       "      <td>0.0</td>\n",
       "      <td>0.0</td>\n",
       "      <td>0.0</td>\n",
       "      <td>0.0</td>\n",
       "      <td>0.0</td>\n",
       "      <td>0.0</td>\n",
       "      <td>0.0</td>\n",
       "      <td>0.0</td>\n",
       "    </tr>\n",
       "    <tr>\n",
       "      <th>4</th>\n",
       "      <td>00056d8eb</td>\n",
       "      <td>0.0</td>\n",
       "      <td>0.0</td>\n",
       "      <td>0.0</td>\n",
       "      <td>0.0</td>\n",
       "      <td>0.0</td>\n",
       "      <td>0.0</td>\n",
       "      <td>0.0</td>\n",
       "      <td>0.0</td>\n",
       "      <td>0.0</td>\n",
       "      <td>...</td>\n",
       "      <td>0.0</td>\n",
       "      <td>0.0</td>\n",
       "      <td>0.0</td>\n",
       "      <td>0.0</td>\n",
       "      <td>0.0</td>\n",
       "      <td>0.0</td>\n",
       "      <td>0.0</td>\n",
       "      <td>0.0</td>\n",
       "      <td>0.0</td>\n",
       "      <td>0.0</td>\n",
       "    </tr>\n",
       "  </tbody>\n",
       "</table>\n",
       "<p>5 rows × 4992 columns</p>\n",
       "</div>"
      ],
      "text/plain": [
       "          ID  48df886f9  0deb4b6a8  34b15f335  a8cb14b00  2f0771a37  \\\n",
       "0  000137c73        0.0        0.0        0.0        0.0        0.0   \n",
       "1  00021489f        0.0        0.0        0.0        0.0        0.0   \n",
       "2  0004d7953        0.0        0.0        0.0        0.0        0.0   \n",
       "3  00056a333        0.0        0.0        0.0        0.0        0.0   \n",
       "4  00056d8eb        0.0        0.0        0.0        0.0        0.0   \n",
       "\n",
       "   30347e683  d08d1fbe3  6ee66e115  20aa07010    ...      3ecc09859  \\\n",
       "0        0.0        0.0        0.0        0.0    ...            0.0   \n",
       "1        0.0        0.0        0.0        0.0    ...            0.0   \n",
       "2        0.0        0.0        0.0        0.0    ...            0.0   \n",
       "3        0.0        0.0        0.0        0.0    ...            0.0   \n",
       "4        0.0        0.0        0.0        0.0    ...            0.0   \n",
       "\n",
       "   9281abeea  8675bec0b  3a13ed79a  f677d4d13  71b203550  137efaa80  \\\n",
       "0        0.0        0.0        0.0        0.0        0.0        0.0   \n",
       "1        0.0        0.0        0.0        0.0        0.0        0.0   \n",
       "2        0.0        0.0        0.0        0.0        0.0        0.0   \n",
       "3        0.0        0.0        0.0        0.0        0.0        0.0   \n",
       "4        0.0        0.0        0.0        0.0        0.0        0.0   \n",
       "\n",
       "   fb36b89d9  7e293fbaf  9fc776466  \n",
       "0        0.0        0.0        0.0  \n",
       "1        0.0        0.0        0.0  \n",
       "2        0.0        0.0        0.0  \n",
       "3        0.0        0.0        0.0  \n",
       "4        0.0        0.0        0.0  \n",
       "\n",
       "[5 rows x 4992 columns]"
      ]
     },
     "metadata": {},
     "output_type": "display_data"
    },
    {
     "data": {
      "text/html": [
       "<div>\n",
       "<style scoped>\n",
       "    .dataframe tbody tr th:only-of-type {\n",
       "        vertical-align: middle;\n",
       "    }\n",
       "\n",
       "    .dataframe tbody tr th {\n",
       "        vertical-align: top;\n",
       "    }\n",
       "\n",
       "    .dataframe thead th {\n",
       "        text-align: right;\n",
       "    }\n",
       "</style>\n",
       "<table border=\"1\" class=\"dataframe\">\n",
       "  <thead>\n",
       "    <tr style=\"text-align: right;\">\n",
       "      <th></th>\n",
       "      <th>ID</th>\n",
       "      <th>target</th>\n",
       "    </tr>\n",
       "  </thead>\n",
       "  <tbody>\n",
       "    <tr>\n",
       "      <th>0</th>\n",
       "      <td>000137c73</td>\n",
       "      <td>5.944923e+06</td>\n",
       "    </tr>\n",
       "    <tr>\n",
       "      <th>1</th>\n",
       "      <td>00021489f</td>\n",
       "      <td>5.944923e+06</td>\n",
       "    </tr>\n",
       "    <tr>\n",
       "      <th>2</th>\n",
       "      <td>0004d7953</td>\n",
       "      <td>5.944923e+06</td>\n",
       "    </tr>\n",
       "    <tr>\n",
       "      <th>3</th>\n",
       "      <td>00056a333</td>\n",
       "      <td>5.944923e+06</td>\n",
       "    </tr>\n",
       "    <tr>\n",
       "      <th>4</th>\n",
       "      <td>00056d8eb</td>\n",
       "      <td>5.944923e+06</td>\n",
       "    </tr>\n",
       "  </tbody>\n",
       "</table>\n",
       "</div>"
      ],
      "text/plain": [
       "          ID        target\n",
       "0  000137c73  5.944923e+06\n",
       "1  00021489f  5.944923e+06\n",
       "2  0004d7953  5.944923e+06\n",
       "3  00056a333  5.944923e+06\n",
       "4  00056d8eb  5.944923e+06"
      ]
     },
     "metadata": {},
     "output_type": "display_data"
    }
   ],
   "source": [
    "for t in tables: display(t.head())"
   ]
  },
  {
   "cell_type": "code",
   "execution_count": 12,
   "metadata": {
    "_uuid": "fb5a7376e3b8d180abb51f7b9a690a3eab81596f"
   },
   "outputs": [],
   "source": [
    "#for t in tables: display(DataFrameSummary(t).summary())"
   ]
  },
  {
   "cell_type": "code",
   "execution_count": 13,
   "metadata": {
    "_uuid": "4eda6f0a367b76f6aa9ee627547492d66d4bb7cb"
   },
   "outputs": [],
   "source": [
    "def join_df(left, right, left_on, right_on=None, suffix='_y'):\n",
    "    if right_on is None: right_on = left_on\n",
    "    \n",
    "    return left.merge(right, how='left', left_on=left_on,\n",
    "        right_on=right_on, suffixes=(\"\", suffix))"
   ]
  },
  {
   "cell_type": "code",
   "execution_count": 14,
   "metadata": {
    "_uuid": "08d787baef6c995b3c9d3a592b0c3388d9eb60e8"
   },
   "outputs": [],
   "source": [
    "train, test, sample_submission = tables"
   ]
  },
  {
   "cell_type": "code",
   "execution_count": 15,
   "metadata": {
    "_uuid": "caa0d6cd517de46de565d9fc46de4e0a14a3e297"
   },
   "outputs": [],
   "source": [
    "#train.head()"
   ]
  },
  {
   "cell_type": "code",
   "execution_count": 16,
   "metadata": {
    "_uuid": "427d8fe142f41a737e1579d7eef814c7eaa881e7"
   },
   "outputs": [
    {
     "data": {
      "text/plain": [
       "(4459, 49342)"
      ]
     },
     "execution_count": 16,
     "metadata": {},
     "output_type": "execute_result"
    }
   ],
   "source": [
    "len(train), len(test)"
   ]
  },
  {
   "cell_type": "code",
   "execution_count": 17,
   "metadata": {
    "_uuid": "d760b08624e54f3f9102c1b3f11d617579b5c30d"
   },
   "outputs": [],
   "source": [
    "#train.nunique().value_counts() #get unique count for each column"
   ]
  },
  {
   "cell_type": "code",
   "execution_count": 18,
   "metadata": {
    "_uuid": "0da1fffd6305a34f0c0f0a2769fbe449f4d60065"
   },
   "outputs": [
    {
     "data": {
      "text/plain": [
       "(ID           4459\n",
       " target       1413\n",
       " 48df886f9      32\n",
       " 0deb4b6a8       5\n",
       " 34b15f335      29\n",
       " a8cb14b00       3\n",
       " 2f0771a37       6\n",
       " 30347e683      25\n",
       " d08d1fbe3       6\n",
       " 6ee66e115       6\n",
       " 20aa07010     714\n",
       " dc5a8f1d8      56\n",
       " 11d86fa6a      86\n",
       " 77c9823f2       2\n",
       " 8d6c2a0b2       7\n",
       " 4681de4fd     236\n",
       " adf119b9a      76\n",
       " cff75dd09      28\n",
       " 96f83a237      16\n",
       " b8a716ebf     128\n",
       " 6c7a4567c      26\n",
       " 4fcfd2b4d       5\n",
       " f3b9c0b95      20\n",
       " 71cebf11c      19\n",
       " d966ac62c      40\n",
       " 68b647452      94\n",
       " c88d108c9      10\n",
       " ff7b471cd       5\n",
       " d5308d8bc       1\n",
       " 0d866c3d7     125\n",
       "              ... \n",
       " cdfc2b069     243\n",
       " 2a879b4f7     120\n",
       " 6b119d8ce     175\n",
       " 98dea9e42       5\n",
       " 9f2471031       2\n",
       " 88458cb21      11\n",
       " f40da20f4      12\n",
       " 7ad6b38bd      91\n",
       " c901e7df1      85\n",
       " 8f55955dc       4\n",
       " 85dcc913d      60\n",
       " 5ca0b9b0c       2\n",
       " eab8abf7a     113\n",
       " 8d8bffbae     193\n",
       " 2a1f6c7f9      27\n",
       " 9437d8b64     260\n",
       " 5831f4c76     301\n",
       " 2e84e09c5       2\n",
       " d45fd5508      15\n",
       " a165f5761      63\n",
       " 3ecc09859     103\n",
       " 9281abeea     119\n",
       " 8675bec0b     207\n",
       " 3a13ed79a      99\n",
       " f677d4d13       2\n",
       " 71b203550      28\n",
       " 137efaa80      12\n",
       " fb36b89d9      17\n",
       " 7e293fbaf      39\n",
       " 9fc776466      93\n",
       " Length: 4993, dtype: int64,)"
      ]
     },
     "execution_count": 18,
     "metadata": {},
     "output_type": "execute_result"
    }
   ],
   "source": [
    "xx = train.nunique(),\n",
    "xx"
   ]
  },
  {
   "cell_type": "code",
   "execution_count": 19,
   "metadata": {
    "_uuid": "4ae78a79f3d5be49fb0cac83fc98ffc1304928b9"
   },
   "outputs": [],
   "source": [
    "xx = train.nunique()\n",
    "#to_remove = pd.DataFrame(xx).index[np.logical_or(np.logical_and(xx < 100, xx > 10),xx == 1)]\n",
    "to_remove = pd.DataFrame(xx).index[xx < 100]"
   ]
  },
  {
   "cell_type": "code",
   "execution_count": 20,
   "metadata": {
    "_uuid": "0cd0d5a4d37853e638013ee37d8935e551257956"
   },
   "outputs": [],
   "source": [
    "cat1 = ['0deb4b6a8']\n",
    "to_remove = list(np.setxor1d(to_remove, cat1))"
   ]
  },
  {
   "cell_type": "code",
   "execution_count": 21,
   "metadata": {
    "_uuid": "fcfab740a1ac6fe62cbb1df35fc8c92109daad8f"
   },
   "outputs": [],
   "source": [
    "train = train.drop(to_remove, axis = 1)\n",
    "test = test.drop(to_remove, axis = 1)"
   ]
  },
  {
   "cell_type": "code",
   "execution_count": 22,
   "metadata": {
    "_uuid": "81a044d5d69b014b9aa26a991221ccf53a7487f6"
   },
   "outputs": [],
   "source": [
    "for i in cat1:\n",
    "    test[i] = test[i].apply(int)"
   ]
  },
  {
   "cell_type": "code",
   "execution_count": 23,
   "metadata": {
    "_uuid": "3622fc03cbc89cfc97be21bf2afd43bbdbab35a1"
   },
   "outputs": [
    {
     "data": {
      "text/plain": [
       "(4459, 1276)"
      ]
     },
     "execution_count": 23,
     "metadata": {},
     "output_type": "execute_result"
    }
   ],
   "source": [
    "train.shape"
   ]
  },
  {
   "cell_type": "code",
   "execution_count": 24,
   "metadata": {
    "_uuid": "bc0e3e51f781f032195aab403cce2ce448e73004"
   },
   "outputs": [
    {
     "data": {
      "text/plain": [
       "(49342, 1275)"
      ]
     },
     "execution_count": 24,
     "metadata": {},
     "output_type": "execute_result"
    }
   ],
   "source": [
    "test.shape"
   ]
  },
  {
   "cell_type": "code",
   "execution_count": 25,
   "metadata": {
    "_uuid": "5f57bf5c22cf5fecd073f4e038cea9b774481678"
   },
   "outputs": [
    {
     "data": {
      "text/html": [
       "<div>\n",
       "<style scoped>\n",
       "    .dataframe tbody tr th:only-of-type {\n",
       "        vertical-align: middle;\n",
       "    }\n",
       "\n",
       "    .dataframe tbody tr th {\n",
       "        vertical-align: top;\n",
       "    }\n",
       "\n",
       "    .dataframe thead th {\n",
       "        text-align: right;\n",
       "    }\n",
       "</style>\n",
       "<table border=\"1\" class=\"dataframe\">\n",
       "  <thead>\n",
       "    <tr style=\"text-align: right;\">\n",
       "      <th></th>\n",
       "      <th>ID</th>\n",
       "      <th>target</th>\n",
       "      <th>0deb4b6a8</th>\n",
       "      <th>20aa07010</th>\n",
       "      <th>4681de4fd</th>\n",
       "      <th>b8a716ebf</th>\n",
       "      <th>0d866c3d7</th>\n",
       "      <th>bd8f989f1</th>\n",
       "      <th>22ed6dba3</th>\n",
       "      <th>92b13ebba</th>\n",
       "      <th>...</th>\n",
       "      <th>cdfc2b069</th>\n",
       "      <th>2a879b4f7</th>\n",
       "      <th>6b119d8ce</th>\n",
       "      <th>eab8abf7a</th>\n",
       "      <th>8d8bffbae</th>\n",
       "      <th>9437d8b64</th>\n",
       "      <th>5831f4c76</th>\n",
       "      <th>3ecc09859</th>\n",
       "      <th>9281abeea</th>\n",
       "      <th>8675bec0b</th>\n",
       "    </tr>\n",
       "  </thead>\n",
       "  <tbody>\n",
       "    <tr>\n",
       "      <th>0</th>\n",
       "      <td>000d6aaf2</td>\n",
       "      <td>38000000.0</td>\n",
       "      <td>0</td>\n",
       "      <td>0.0</td>\n",
       "      <td>0</td>\n",
       "      <td>0.0</td>\n",
       "      <td>0.0</td>\n",
       "      <td>0.0</td>\n",
       "      <td>0.0</td>\n",
       "      <td>0.0</td>\n",
       "      <td>...</td>\n",
       "      <td>1200000.0</td>\n",
       "      <td>0.0</td>\n",
       "      <td>0.0</td>\n",
       "      <td>0</td>\n",
       "      <td>0.0</td>\n",
       "      <td>0</td>\n",
       "      <td>0.0</td>\n",
       "      <td>0.0</td>\n",
       "      <td>0.0</td>\n",
       "      <td>0.0</td>\n",
       "    </tr>\n",
       "    <tr>\n",
       "      <th>1</th>\n",
       "      <td>000fbd867</td>\n",
       "      <td>600000.0</td>\n",
       "      <td>0</td>\n",
       "      <td>2200000.0</td>\n",
       "      <td>0</td>\n",
       "      <td>0.0</td>\n",
       "      <td>0.0</td>\n",
       "      <td>0.0</td>\n",
       "      <td>0.0</td>\n",
       "      <td>0.0</td>\n",
       "      <td>...</td>\n",
       "      <td>0.0</td>\n",
       "      <td>0.0</td>\n",
       "      <td>0.0</td>\n",
       "      <td>0</td>\n",
       "      <td>0.0</td>\n",
       "      <td>0</td>\n",
       "      <td>0.0</td>\n",
       "      <td>0.0</td>\n",
       "      <td>0.0</td>\n",
       "      <td>0.0</td>\n",
       "    </tr>\n",
       "  </tbody>\n",
       "</table>\n",
       "<p>2 rows × 1276 columns</p>\n",
       "</div>"
      ],
      "text/plain": [
       "          ID      target  0deb4b6a8  20aa07010  4681de4fd  b8a716ebf  \\\n",
       "0  000d6aaf2  38000000.0          0        0.0          0        0.0   \n",
       "1  000fbd867    600000.0          0  2200000.0          0        0.0   \n",
       "\n",
       "   0d866c3d7  bd8f989f1  22ed6dba3  92b13ebba    ...      cdfc2b069  \\\n",
       "0        0.0        0.0        0.0        0.0    ...      1200000.0   \n",
       "1        0.0        0.0        0.0        0.0    ...            0.0   \n",
       "\n",
       "   2a879b4f7  6b119d8ce  eab8abf7a  8d8bffbae  9437d8b64  5831f4c76  \\\n",
       "0        0.0        0.0          0        0.0          0        0.0   \n",
       "1        0.0        0.0          0        0.0          0        0.0   \n",
       "\n",
       "   3ecc09859  9281abeea  8675bec0b  \n",
       "0        0.0        0.0        0.0  \n",
       "1        0.0        0.0        0.0  \n",
       "\n",
       "[2 rows x 1276 columns]"
      ]
     },
     "execution_count": 25,
     "metadata": {},
     "output_type": "execute_result"
    }
   ],
   "source": [
    "train.head(2)"
   ]
  },
  {
   "cell_type": "code",
   "execution_count": 26,
   "metadata": {
    "_uuid": "3ce5f62c5825101e044af0dbed27f5b3a276346f"
   },
   "outputs": [
    {
     "data": {
      "text/plain": [
       "(1, 1273)"
      ]
     },
     "execution_count": 26,
     "metadata": {},
     "output_type": "execute_result"
    }
   ],
   "source": [
    "#xx = train.nunique()\n",
    "#cat_vars = list(pd.DataFrame(xx).index[xx < 10])\n",
    "#contin_vars = list(pd.DataFrame(xx).index[xx > 50])\n",
    "contin_vars = list(train.columns)[3:]\n",
    "cat_vars = ['0deb4b6a8']\n",
    "len(cat_vars), len(contin_vars)"
   ]
  },
  {
   "cell_type": "code",
   "execution_count": 27,
   "metadata": {
    "_uuid": "8959f7a5bab961f575a655099c858e83dcac239b"
   },
   "outputs": [
    {
     "data": {
      "text/plain": [
       "4459"
      ]
     },
     "execution_count": 27,
     "metadata": {},
     "output_type": "execute_result"
    }
   ],
   "source": [
    "n = len(train); n"
   ]
  },
  {
   "cell_type": "code",
   "execution_count": 28,
   "metadata": {
    "_uuid": "3926bf888e4ab086629ed81fd34a1f48e3741b4c"
   },
   "outputs": [],
   "source": [
    "for i in cat_vars:\n",
    "    train[i] = train[i].apply(str)\n",
    "#train[cat_vars] = train[cat_vars].apply(str)"
   ]
  },
  {
   "cell_type": "code",
   "execution_count": 29,
   "metadata": {
    "_uuid": "37bafaaed49f6493e44dbe7a7bb55d5311105e81",
    "scrolled": true
   },
   "outputs": [],
   "source": [
    "for i in cat_vars:\n",
    "    test[i] = test[i].apply(str)"
   ]
  },
  {
   "cell_type": "code",
   "execution_count": 30,
   "metadata": {
    "_uuid": "77dbe248727dee015803391b2dbab6e4687d574e"
   },
   "outputs": [
    {
     "data": {
      "text/plain": [
       "['0deb4b6a8']"
      ]
     },
     "execution_count": 30,
     "metadata": {},
     "output_type": "execute_result"
    }
   ],
   "source": [
    "list(cat_vars)"
   ]
  },
  {
   "cell_type": "code",
   "execution_count": 31,
   "metadata": {
    "_uuid": "33a50b233d4aab01583f8b06ea187f86c9e6f8db"
   },
   "outputs": [],
   "source": [
    "dep = 'target'\n",
    "joined = train[cat_vars+contin_vars+[dep]].copy()"
   ]
  },
  {
   "cell_type": "code",
   "execution_count": 32,
   "metadata": {
    "_uuid": "4f53f366132808c5d96fc50ea3bcbb087c2551dc"
   },
   "outputs": [],
   "source": [
    "test[dep] = 0\n",
    "joined_test = test[cat_vars+contin_vars+[dep, 'ID']].copy()"
   ]
  },
  {
   "cell_type": "code",
   "execution_count": 33,
   "metadata": {
    "_uuid": "c1a4ffdea602e45228a89a9cc102dd2cac03fca8"
   },
   "outputs": [],
   "source": [
    "for v in cat_vars: joined[v] = joined[v].astype('category').cat.as_ordered()"
   ]
  },
  {
   "cell_type": "code",
   "execution_count": 34,
   "metadata": {
    "_uuid": "64928734dcdf7319259b0a178b791457b35e38cf",
    "scrolled": true
   },
   "outputs": [],
   "source": [
    "apply_cats(joined_test, joined)"
   ]
  },
  {
   "cell_type": "code",
   "execution_count": 35,
   "metadata": {
    "_uuid": "de7c23b3fefb4082823dddce925f62f7440982e8"
   },
   "outputs": [
    {
     "data": {
      "text/plain": [
       "(  0deb4b6a8  20aa07010  4681de4fd  b8a716ebf  0d866c3d7   bd8f989f1  \\\n",
       " 0         0        0.0        0.0        0.0        0.0         0.0   \n",
       " 1         0        0.0        0.0        0.0        0.0         0.0   \n",
       " 2         0        0.0        0.0        0.0        0.0         0.0   \n",
       " 3         0        0.0        0.0        0.0        0.0  20884000.0   \n",
       " 4         0        0.0        0.0        0.0        0.0         0.0   \n",
       " \n",
       "    22ed6dba3  92b13ebba  233c7c17c   87ffda550    ...      6b119d8ce  \\\n",
       " 0        0.0        0.0        0.0         0.0    ...            0.0   \n",
       " 1        0.0        0.0        0.0         0.0    ...            0.0   \n",
       " 2        0.0        0.0        0.0         0.0    ...            0.0   \n",
       " 3        0.0        0.0        0.0  20000000.0    ...            0.0   \n",
       " 4        0.0        0.0        0.0         0.0    ...            0.0   \n",
       " \n",
       "    eab8abf7a  8d8bffbae  9437d8b64  5831f4c76  3ecc09859  9281abeea  \\\n",
       " 0        0.0        0.0        0.0        0.0        0.0        0.0   \n",
       " 1        0.0        0.0        0.0        0.0        0.0        0.0   \n",
       " 2        0.0        0.0        0.0  5000000.0        0.0        0.0   \n",
       " 3        0.0        0.0        0.0        0.0        0.0        0.0   \n",
       " 4        0.0        0.0        0.0        0.0        0.0        0.0   \n",
       " \n",
       "    8675bec0b  target         ID  \n",
       " 0        0.0       0  000137c73  \n",
       " 1        0.0       0  00021489f  \n",
       " 2        0.0       0  0004d7953  \n",
       " 3        0.0       0  00056a333  \n",
       " 4        0.0       0  00056d8eb  \n",
       " \n",
       " [5 rows x 1276 columns],\n",
       "   0deb4b6a8  20aa07010  4681de4fd  b8a716ebf  0d866c3d7  bd8f989f1  22ed6dba3  \\\n",
       " 0         0        0.0          0        0.0        0.0        0.0        0.0   \n",
       " 1         0  2200000.0          0        0.0        0.0        0.0        0.0   \n",
       " 2         0        0.0          0        0.0        0.0        0.0        0.0   \n",
       " 3         0        0.0          0        0.0        0.0        0.0        0.0   \n",
       " 4         0  2000000.0          0        0.0        0.0        0.0        0.0   \n",
       " \n",
       "    92b13ebba  233c7c17c  87ffda550     ...      2a879b4f7  6b119d8ce  \\\n",
       " 0        0.0        0.0  1300000.0     ...            0.0        0.0   \n",
       " 1        0.0        0.0        0.0     ...            0.0        0.0   \n",
       " 2        0.0        0.0        0.0     ...            0.0        0.0   \n",
       " 3        0.0        0.0        0.0     ...            0.0        0.0   \n",
       " 4        0.0        0.0        0.0     ...            0.0        0.0   \n",
       " \n",
       "    eab8abf7a  8d8bffbae  9437d8b64  5831f4c76  3ecc09859  9281abeea  \\\n",
       " 0          0        0.0          0        0.0        0.0        0.0   \n",
       " 1          0        0.0          0        0.0        0.0        0.0   \n",
       " 2          0        0.0          0        0.0        0.0        0.0   \n",
       " 3          0        0.0          0        0.0        0.0        0.0   \n",
       " 4          0        0.0          0        0.0        0.0        0.0   \n",
       " \n",
       "    8675bec0b      target  \n",
       " 0        0.0  38000000.0  \n",
       " 1        0.0    600000.0  \n",
       " 2        0.0  10000000.0  \n",
       " 3        0.0   2000000.0  \n",
       " 4        0.0  14400000.0  \n",
       " \n",
       " [5 rows x 1275 columns])"
      ]
     },
     "execution_count": 35,
     "metadata": {},
     "output_type": "execute_result"
    }
   ],
   "source": [
    "joined_test.head(),joined.head()"
   ]
  },
  {
   "cell_type": "code",
   "execution_count": 36,
   "metadata": {
    "_uuid": "b5af737bf2d9f2319105a16f08c0917c8cd07e98"
   },
   "outputs": [],
   "source": [
    "for v in contin_vars:\n",
    "    joined[v] = joined[v].fillna(0).astype('float32')\n",
    "    joined_test[v] = joined_test[v].fillna(0).astype('float32')"
   ]
  },
  {
   "cell_type": "code",
   "execution_count": 37,
   "metadata": {
    "_uuid": "02e83ee472162532eebdebf6479a8fd8db77ec1e"
   },
   "outputs": [],
   "source": [
    "df, y, nas, mapper = proc_df(joined, 'target', do_scale=True)\n",
    "yl = np.log(y)"
   ]
  },
  {
   "cell_type": "code",
   "execution_count": 38,
   "metadata": {
    "_uuid": "448c79ae1ca8f1a291d46d5887e01ca00860da56"
   },
   "outputs": [],
   "source": [
    "df_test, _, nas, mapper = proc_df(joined_test, 'target', do_scale=True, skip_flds=['ID'],\n",
    "                                  mapper=mapper, na_dict=nas)"
   ]
  },
  {
   "cell_type": "code",
   "execution_count": 39,
   "metadata": {
    "_uuid": "0c8ea6fce16c12ea79fbe8709214a68400999279"
   },
   "outputs": [
    {
     "data": {
      "text/html": [
       "<div>\n",
       "<style scoped>\n",
       "    .dataframe tbody tr th:only-of-type {\n",
       "        vertical-align: middle;\n",
       "    }\n",
       "\n",
       "    .dataframe tbody tr th {\n",
       "        vertical-align: top;\n",
       "    }\n",
       "\n",
       "    .dataframe thead th {\n",
       "        text-align: right;\n",
       "    }\n",
       "</style>\n",
       "<table border=\"1\" class=\"dataframe\">\n",
       "  <thead>\n",
       "    <tr style=\"text-align: right;\">\n",
       "      <th></th>\n",
       "      <th>0deb4b6a8</th>\n",
       "      <th>20aa07010</th>\n",
       "      <th>4681de4fd</th>\n",
       "      <th>b8a716ebf</th>\n",
       "      <th>0d866c3d7</th>\n",
       "      <th>bd8f989f1</th>\n",
       "      <th>22ed6dba3</th>\n",
       "      <th>92b13ebba</th>\n",
       "      <th>233c7c17c</th>\n",
       "      <th>87ffda550</th>\n",
       "      <th>...</th>\n",
       "      <th>cdfc2b069</th>\n",
       "      <th>2a879b4f7</th>\n",
       "      <th>6b119d8ce</th>\n",
       "      <th>eab8abf7a</th>\n",
       "      <th>8d8bffbae</th>\n",
       "      <th>9437d8b64</th>\n",
       "      <th>5831f4c76</th>\n",
       "      <th>3ecc09859</th>\n",
       "      <th>9281abeea</th>\n",
       "      <th>8675bec0b</th>\n",
       "    </tr>\n",
       "  </thead>\n",
       "  <tbody>\n",
       "    <tr>\n",
       "      <th>0</th>\n",
       "      <td>1</td>\n",
       "      <td>-0.267393</td>\n",
       "      <td>-0.145479</td>\n",
       "      <td>-0.122579</td>\n",
       "      <td>-0.106546</td>\n",
       "      <td>-0.195458</td>\n",
       "      <td>-0.190989</td>\n",
       "      <td>-0.131103</td>\n",
       "      <td>-0.109261</td>\n",
       "      <td>0.006855</td>\n",
       "      <td>...</td>\n",
       "      <td>0.098504</td>\n",
       "      <td>-0.109831</td>\n",
       "      <td>-0.136631</td>\n",
       "      <td>-0.108148</td>\n",
       "      <td>-0.117917</td>\n",
       "      <td>-0.103842</td>\n",
       "      <td>-0.181415</td>\n",
       "      <td>-0.114959</td>\n",
       "      <td>-0.100403</td>\n",
       "      <td>-0.178522</td>\n",
       "    </tr>\n",
       "    <tr>\n",
       "      <th>1</th>\n",
       "      <td>1</td>\n",
       "      <td>-0.038443</td>\n",
       "      <td>-0.145479</td>\n",
       "      <td>-0.122579</td>\n",
       "      <td>-0.106546</td>\n",
       "      <td>-0.195458</td>\n",
       "      <td>-0.190989</td>\n",
       "      <td>-0.131103</td>\n",
       "      <td>-0.109261</td>\n",
       "      <td>-0.169767</td>\n",
       "      <td>...</td>\n",
       "      <td>-0.181402</td>\n",
       "      <td>-0.109831</td>\n",
       "      <td>-0.136631</td>\n",
       "      <td>-0.108148</td>\n",
       "      <td>-0.117917</td>\n",
       "      <td>-0.103842</td>\n",
       "      <td>-0.181415</td>\n",
       "      <td>-0.114959</td>\n",
       "      <td>-0.100403</td>\n",
       "      <td>-0.178522</td>\n",
       "    </tr>\n",
       "  </tbody>\n",
       "</table>\n",
       "<p>2 rows × 1274 columns</p>\n",
       "</div>"
      ],
      "text/plain": [
       "   0deb4b6a8  20aa07010  4681de4fd  b8a716ebf  0d866c3d7  bd8f989f1  \\\n",
       "0          1  -0.267393  -0.145479  -0.122579  -0.106546  -0.195458   \n",
       "1          1  -0.038443  -0.145479  -0.122579  -0.106546  -0.195458   \n",
       "\n",
       "   22ed6dba3  92b13ebba  233c7c17c  87ffda550    ...      cdfc2b069  \\\n",
       "0  -0.190989  -0.131103  -0.109261   0.006855    ...       0.098504   \n",
       "1  -0.190989  -0.131103  -0.109261  -0.169767    ...      -0.181402   \n",
       "\n",
       "   2a879b4f7  6b119d8ce  eab8abf7a  8d8bffbae  9437d8b64  5831f4c76  \\\n",
       "0  -0.109831  -0.136631  -0.108148  -0.117917  -0.103842  -0.181415   \n",
       "1  -0.109831  -0.136631  -0.108148  -0.117917  -0.103842  -0.181415   \n",
       "\n",
       "   3ecc09859  9281abeea  8675bec0b  \n",
       "0  -0.114959  -0.100403  -0.178522  \n",
       "1  -0.114959  -0.100403  -0.178522  \n",
       "\n",
       "[2 rows x 1274 columns]"
      ]
     },
     "execution_count": 39,
     "metadata": {},
     "output_type": "execute_result"
    }
   ],
   "source": [
    "df.head(2)"
   ]
  },
  {
   "cell_type": "code",
   "execution_count": 40,
   "metadata": {
    "_uuid": "6b7656cccb4955c45736cadcf6856c0ad7731dea"
   },
   "outputs": [
    {
     "data": {
      "text/plain": [
       "1144"
      ]
     },
     "execution_count": 40,
     "metadata": {},
     "output_type": "execute_result"
    }
   ],
   "source": [
    "train_ratio = 0.75\n",
    "msk = np.random.rand(len(df)) > 0.75\n",
    "val_idx = df.index[msk]\n",
    "len(val_idx)"
   ]
  },
  {
   "cell_type": "code",
   "execution_count": 41,
   "metadata": {
    "_uuid": "5587dc7f91ffab2fac01c44e3a98425a9b1f3d78"
   },
   "outputs": [],
   "source": [
    "#val_idx = np.flatnonzero(val_idx),\n",
    "#val_idx = [0]\n",
    "val_idx = list(val_idx)\n",
    "val_idx = [0]"
   ]
  },
  {
   "cell_type": "code",
   "execution_count": 42,
   "metadata": {
    "_uuid": "21cb28e974cd111da7353a936b6c3574a3d866bb"
   },
   "outputs": [],
   "source": [
    "def inv_y(a): return np.exp(a)\n",
    "\n",
    "def exp_rmspe(y_pred, targ):\n",
    "    targ = inv_y(targ)\n",
    "    pct_var = (targ - inv_y(y_pred))/targ\n",
    "    return math.sqrt((pct_var**2).mean())\n",
    "\n",
    "max_log_y = np.max(yl)\n",
    "y_range = (0, max_log_y*1.2)"
   ]
  },
  {
   "cell_type": "code",
   "execution_count": 43,
   "metadata": {
    "_uuid": "0345e3328619c3c95e45ea0b91bf29cb749da4f7"
   },
   "outputs": [
    {
     "data": {
      "text/plain": [
       "0    0\n",
       "1    0\n",
       "2    0\n",
       "3    0\n",
       "4    0\n",
       "Name: target, dtype: int64"
      ]
     },
     "execution_count": 43,
     "metadata": {},
     "output_type": "execute_result"
    }
   ],
   "source": [
    "joined_test['target'].head()"
   ]
  },
  {
   "cell_type": "code",
   "execution_count": 44,
   "metadata": {
    "_uuid": "eb6d1148f7fe90cde0c1312c79e4ab71be06ee81"
   },
   "outputs": [],
   "source": [
    "#test_ds = ColumnarDataset.from_data_frames(df_test[cat_vars],  df_test.drop(cat_vars, axis=1), None, True)"
   ]
  },
  {
   "cell_type": "code",
   "execution_count": 45,
   "metadata": {
    "_uuid": "464b7b39806d9bca0ebe450238f5f7c254ef106e"
   },
   "outputs": [],
   "source": [
    "#test_ds"
   ]
  },
  {
   "cell_type": "code",
   "execution_count": 46,
   "metadata": {
    "_uuid": "f2aac931173f2210b86e9f8a82fd74119b0564f8"
   },
   "outputs": [],
   "source": [
    "#df_cont = joined.drop(cat_vars, axis=1)\n",
    "#cont_cols = [c.values for n,c in df_cont.items()]\n",
    "#cont_cols"
   ]
  },
  {
   "cell_type": "code",
   "execution_count": 47,
   "metadata": {
    "_uuid": "f6bb2dfa2e9d0debd966e76f3b6154b8a48b3443"
   },
   "outputs": [],
   "source": [
    "md = ColumnarModelData.from_data_frame(PATH, val_idx, df, yl.astype(np.float32), cat_flds=cat_vars, bs=128, test_df = df_test )"
   ]
  },
  {
   "cell_type": "code",
   "execution_count": 48,
   "metadata": {
    "_uuid": "9c57cc6dd157f9e81ffa432062ddae5a1cf4cd7e"
   },
   "outputs": [],
   "source": [
    "cat_sz = [(c, len(joined[c].cat.categories)+1) for c in cat_vars]"
   ]
  },
  {
   "cell_type": "code",
   "execution_count": 49,
   "metadata": {
    "_uuid": "8b28e52ea24c08e4af9332ca7be50c82d3f4ad89"
   },
   "outputs": [],
   "source": [
    "emb_szs = [(c, min(50, (c+1)//2)) for _,c in cat_sz]"
   ]
  },
  {
   "cell_type": "code",
   "execution_count": 50,
   "metadata": {
    "_uuid": "f7639c419f8eac4a3b8b0da6ea6d1002d34831fe"
   },
   "outputs": [
    {
     "data": {
      "text/plain": [
       "[(6, 3)]"
      ]
     },
     "execution_count": 50,
     "metadata": {},
     "output_type": "execute_result"
    }
   ],
   "source": [
    "emb_szs"
   ]
  },
  {
   "cell_type": "code",
   "execution_count": 51,
   "metadata": {},
   "outputs": [
    {
     "data": {
      "text/plain": [
       "(0, 21.005268014493854)"
      ]
     },
     "execution_count": 51,
     "metadata": {},
     "output_type": "execute_result"
    }
   ],
   "source": [
    "y_range"
   ]
  },
  {
   "cell_type": "code",
   "execution_count": 52,
   "metadata": {
    "_uuid": "ec1d8f87ed1a4cc2f225fbaa8203e1d0fd311720"
   },
   "outputs": [],
   "source": [
    "m = md.get_learner(emb_szs, len(df.columns) - len(cat_vars), 0.04, 1, [1000,500], [0.001,0.01], y_range=y_range)"
   ]
  },
  {
   "cell_type": "code",
   "execution_count": null,
   "metadata": {},
   "outputs": [],
   "source": []
  },
  {
   "cell_type": "code",
   "execution_count": 65,
   "metadata": {
    "_uuid": "4cbc121fa9cbf8d74f24ceb2d057123cc417e647"
   },
   "outputs": [
    {
     "data": {
      "application/vnd.jupyter.widget-view+json": {
       "model_id": "3a047a02160a43d2b0a4836faca16346",
       "version_major": 2,
       "version_minor": 0
      },
      "text/html": [
       "<p>Failed to display Jupyter Widget of type <code>HBox</code>.</p>\n",
       "<p>\n",
       "  If you're reading this message in the Jupyter Notebook or JupyterLab Notebook, it may mean\n",
       "  that the widgets JavaScript is still loading. If this message persists, it\n",
       "  likely means that the widgets JavaScript library is either not installed or\n",
       "  not enabled. See the <a href=\"https://ipywidgets.readthedocs.io/en/stable/user_install.html\">Jupyter\n",
       "  Widgets Documentation</a> for setup instructions.\n",
       "</p>\n",
       "<p>\n",
       "  If you're reading this message in another frontend (for example, a static\n",
       "  rendering on GitHub or <a href=\"https://nbviewer.jupyter.org/\">NBViewer</a>),\n",
       "  it may mean that your frontend doesn't currently support widgets.\n",
       "</p>\n"
      ],
      "text/plain": [
       "HBox(children=(IntProgress(value=0, description='Epoch', max=1), HTML(value='')))"
      ]
     },
     "metadata": {},
     "output_type": "display_data"
    },
    {
     "name": "stdout",
     "output_type": "stream",
     "text": [
      "epoch      trn_loss   val_loss                             \n",
      "    0      45.432119  12.617924 \n",
      "\n"
     ]
    }
   ],
   "source": [
    "lr = 1e-3\n",
    "m.lr_find()"
   ]
  },
  {
   "cell_type": "code",
   "execution_count": 56,
   "metadata": {
    "_uuid": "ec5a47990fe15156414560e3322ca65846ba0a9f"
   },
   "outputs": [
    {
     "data": {
      "image/png": "[encoded data removed]",
      "text/plain": [
       "<matplotlib.figure.Figure at 0x7fd93ccdf320>"
      ]
     },
     "metadata": {},
     "output_type": "display_data"
    }
   ],
   "source": [
    "m.sched.plot(100)"
   ]
  },
  {
   "cell_type": "code",
   "execution_count": 66,
   "metadata": {},
   "outputs": [],
   "source": [
    "m = md.get_learner(emb_szs, len(df.columns)-len(cat_vars),\n",
    "                   0.04, 1, [1000,500], [0.001,0.01], y_range=y_range)\n",
    "lr = 1e-3"
   ]
  },
  {
   "cell_type": "code",
   "execution_count": 67,
   "metadata": {},
   "outputs": [
    {
     "data": {
      "application/vnd.jupyter.widget-view+json": {
       "model_id": "c410d2dcbfbe49239d00e3f51febbec3",
       "version_major": 2,
       "version_minor": 0
      },
      "text/html": [
       "<p>Failed to display Jupyter Widget of type <code>HBox</code>.</p>\n",
       "<p>\n",
       "  If you're reading this message in the Jupyter Notebook or JupyterLab Notebook, it may mean\n",
       "  that the widgets JavaScript is still loading. If this message persists, it\n",
       "  likely means that the widgets JavaScript library is either not installed or\n",
       "  not enabled. See the <a href=\"https://ipywidgets.readthedocs.io/en/stable/user_install.html\">Jupyter\n",
       "  Widgets Documentation</a> for setup instructions.\n",
       "</p>\n",
       "<p>\n",
       "  If you're reading this message in another frontend (for example, a static\n",
       "  rendering on GitHub or <a href=\"https://nbviewer.jupyter.org/\">NBViewer</a>),\n",
       "  it may mean that your frontend doesn't currently support widgets.\n",
       "</p>\n"
      ],
      "text/plain": [
       "HBox(children=(IntProgress(value=0, description='Epoch', max=3), HTML(value='')))"
      ]
     },
     "metadata": {},
     "output_type": "display_data"
    },
    {
     "name": "stdout",
     "output_type": "stream",
     "text": [
      "epoch      trn_loss   val_loss   exp_rmspe                 \n",
      "    0      17.282513  22.122578  0.990936  \n",
      "    1      10.008455  4.624422   0.883568                  \n",
      "    2      6.298377   2.060176   0.761963                  \n",
      "\n"
     ]
    },
    {
     "data": {
      "text/plain": [
       "[2.0601761, 0.7619634773132353]"
      ]
     },
     "execution_count": 67,
     "metadata": {},
     "output_type": "execute_result"
    }
   ],
   "source": [
    "m.fit(lr, 3, metrics=[exp_rmspe])"
   ]
  },
  {
   "cell_type": "code",
   "execution_count": 68,
   "metadata": {},
   "outputs": [
    {
     "data": {
      "application/vnd.jupyter.widget-view+json": {
       "model_id": "3c2f58a603d146f380910deb8cff284c",
       "version_major": 2,
       "version_minor": 0
      },
      "text/html": [
       "<p>Failed to display Jupyter Widget of type <code>HBox</code>.</p>\n",
       "<p>\n",
       "  If you're reading this message in the Jupyter Notebook or JupyterLab Notebook, it may mean\n",
       "  that the widgets JavaScript is still loading. If this message persists, it\n",
       "  likely means that the widgets JavaScript library is either not installed or\n",
       "  not enabled. See the <a href=\"https://ipywidgets.readthedocs.io/en/stable/user_install.html\">Jupyter\n",
       "  Widgets Documentation</a> for setup instructions.\n",
       "</p>\n",
       "<p>\n",
       "  If you're reading this message in another frontend (for example, a static\n",
       "  rendering on GitHub or <a href=\"https://nbviewer.jupyter.org/\">NBViewer</a>),\n",
       "  it may mean that your frontend doesn't currently support widgets.\n",
       "</p>\n"
      ],
      "text/plain": [
       "HBox(children=(IntProgress(value=0, description='Epoch', max=5), HTML(value='')))"
      ]
     },
     "metadata": {},
     "output_type": "display_data"
    },
    {
     "name": "stdout",
     "output_type": "stream",
     "text": [
      "epoch      trn_loss   val_loss   exp_rmspe                 \n",
      "    0      3.383841   0.515338   0.51221   \n",
      "    1      3.26861    0.425647   0.479214                  \n",
      "    2      3.231367   0.97756    0.627946                  \n",
      "    3      2.740155   1.696849   0.728184                  \n",
      "    4      2.340726   0.682664   0.562306                  \n",
      "\n"
     ]
    },
    {
     "data": {
      "text/plain": [
       "[0.682664, 0.5623058142854479]"
      ]
     },
     "execution_count": 68,
     "metadata": {},
     "output_type": "execute_result"
    }
   ],
   "source": [
    "m.fit(lr, 5, metrics=[exp_rmspe], cycle_len=1)"
   ]
  },
  {
   "cell_type": "code",
   "execution_count": 96,
   "metadata": {},
   "outputs": [],
   "source": [
    "m = md.get_learner(emb_szs, len(df.columns)-len(cat_vars),\n",
    "                   0.04, 1, [1000,500], [0.001,0.01], y_range=y_range)\n",
    "lr = 1e-3"
   ]
  },
  {
   "cell_type": "code",
   "execution_count": 97,
   "metadata": {},
   "outputs": [
    {
     "data": {
      "application/vnd.jupyter.widget-view+json": {
       "model_id": "60674e4d7e9d4b5f96a603b59b87bb0c",
       "version_major": 2,
       "version_minor": 0
      },
      "text/html": [
       "<p>Failed to display Jupyter Widget of type <code>HBox</code>.</p>\n",
       "<p>\n",
       "  If you're reading this message in the Jupyter Notebook or JupyterLab Notebook, it may mean\n",
       "  that the widgets JavaScript is still loading. If this message persists, it\n",
       "  likely means that the widgets JavaScript library is either not installed or\n",
       "  not enabled. See the <a href=\"https://ipywidgets.readthedocs.io/en/stable/user_install.html\">Jupyter\n",
       "  Widgets Documentation</a> for setup instructions.\n",
       "</p>\n",
       "<p>\n",
       "  If you're reading this message in another frontend (for example, a static\n",
       "  rendering on GitHub or <a href=\"https://nbviewer.jupyter.org/\">NBViewer</a>),\n",
       "  it may mean that your frontend doesn't currently support widgets.\n",
       "</p>\n"
      ],
      "text/plain": [
       "HBox(children=(IntProgress(value=0, description='Epoch', max=1), HTML(value='')))"
      ]
     },
     "metadata": {},
     "output_type": "display_data"
    },
    {
     "name": "stdout",
     "output_type": "stream",
     "text": [
      "epoch      trn_loss   val_loss   exp_rmspe                 \n",
      "    0      11.284121  9.789547   0.956231  \n",
      "\n"
     ]
    },
    {
     "data": {
      "text/plain": [
       "[9.789547, 0.9562308253441469]"
      ]
     },
     "execution_count": 97,
     "metadata": {},
     "output_type": "execute_result"
    }
   ],
   "source": [
    "m.fit(lr, 1, metrics=[exp_rmspe])"
   ]
  },
  {
   "cell_type": "code",
   "execution_count": 98,
   "metadata": {},
   "outputs": [
    {
     "data": {
      "application/vnd.jupyter.widget-view+json": {
       "model_id": "4d6e86b45e7742e4b9a206e7bc74d989",
       "version_major": 2,
       "version_minor": 0
      },
      "text/html": [
       "<p>Failed to display Jupyter Widget of type <code>HBox</code>.</p>\n",
       "<p>\n",
       "  If you're reading this message in the Jupyter Notebook or JupyterLab Notebook, it may mean\n",
       "  that the widgets JavaScript is still loading. If this message persists, it\n",
       "  likely means that the widgets JavaScript library is either not installed or\n",
       "  not enabled. See the <a href=\"https://ipywidgets.readthedocs.io/en/stable/user_install.html\">Jupyter\n",
       "  Widgets Documentation</a> for setup instructions.\n",
       "</p>\n",
       "<p>\n",
       "  If you're reading this message in another frontend (for example, a static\n",
       "  rendering on GitHub or <a href=\"https://nbviewer.jupyter.org/\">NBViewer</a>),\n",
       "  it may mean that your frontend doesn't currently support widgets.\n",
       "</p>\n"
      ],
      "text/plain": [
       "HBox(children=(IntProgress(value=0, description='Epoch', max=5), HTML(value='')))"
      ]
     },
     "metadata": {},
     "output_type": "display_data"
    },
    {
     "name": "stdout",
     "output_type": "stream",
     "text": [
      "epoch      trn_loss   val_loss   exp_rmspe                 \n",
      "    0      4.648214   14.807849  0.97868   \n",
      "    1      3.224631   12.111698  0.969198                  \n",
      "    2      2.390885   11.977289  0.968596                  \n",
      "    3      1.855831   8.12272    0.942158                  \n",
      "    4      1.528352   10.389509  0.960176                  \n",
      "\n"
     ]
    },
    {
     "data": {
      "text/plain": [
       "[10.389509, 0.9601756852047625]"
      ]
     },
     "execution_count": 98,
     "metadata": {},
     "output_type": "execute_result"
    }
   ],
   "source": [
    "m.fit(lr, 5, metrics=[exp_rmspe])"
   ]
  },
  {
   "cell_type": "code",
   "execution_count": 100,
   "metadata": {},
   "outputs": [
    {
     "data": {
      "application/vnd.jupyter.widget-view+json": {
       "model_id": "066cbee7247c45dbb8b1b7dcc8fd8a9b",
       "version_major": 2,
       "version_minor": 0
      },
      "text/html": [
       "<p>Failed to display Jupyter Widget of type <code>HBox</code>.</p>\n",
       "<p>\n",
       "  If you're reading this message in the Jupyter Notebook or JupyterLab Notebook, it may mean\n",
       "  that the widgets JavaScript is still loading. If this message persists, it\n",
       "  likely means that the widgets JavaScript library is either not installed or\n",
       "  not enabled. See the <a href=\"https://ipywidgets.readthedocs.io/en/stable/user_install.html\">Jupyter\n",
       "  Widgets Documentation</a> for setup instructions.\n",
       "</p>\n",
       "<p>\n",
       "  If you're reading this message in another frontend (for example, a static\n",
       "  rendering on GitHub or <a href=\"https://nbviewer.jupyter.org/\">NBViewer</a>),\n",
       "  it may mean that your frontend doesn't currently support widgets.\n",
       "</p>\n"
      ],
      "text/plain": [
       "HBox(children=(IntProgress(value=0, description='Epoch', max=5), HTML(value='')))"
      ]
     },
     "metadata": {},
     "output_type": "display_data"
    },
    {
     "name": "stdout",
     "output_type": "stream",
     "text": [
      "epoch      trn_loss   val_loss   exp_rmspe                  \n",
      "    0      0.938837   9.104759   0.951072  \n",
      "    1      0.88404    10.265949  0.959403                   \n",
      "    2      0.80767    9.827216   0.956493                   \n",
      "    3      0.798249   11.353582  0.965593                   \n",
      "    4      0.773039   5.835136   0.910686                   \n",
      "\n"
     ]
    },
    {
     "data": {
      "text/plain": [
       "[5.8351364, 0.9106864858172291]"
      ]
     },
     "execution_count": 100,
     "metadata": {},
     "output_type": "execute_result"
    }
   ],
   "source": [
    "m.fit(lr, 5, metrics=[exp_rmspe], cycle_len=1)"
   ]
  },
  {
   "cell_type": "code",
   "execution_count": 101,
   "metadata": {},
   "outputs": [],
   "source": [
    "m = md.get_learner(emb_szs, len(df.columns)-len(cat_vars),\n",
    "                   0.04, 1, [1000,500], [0.001,0.01], y_range=y_range)\n",
    "lr = 1e-3"
   ]
  },
  {
   "cell_type": "code",
   "execution_count": 104,
   "metadata": {},
   "outputs": [
    {
     "data": {
      "application/vnd.jupyter.widget-view+json": {
       "model_id": "b30930f1de7b4534b44734c10affa1f9",
       "version_major": 2,
       "version_minor": 0
      },
      "text/html": [
       "<p>Failed to display Jupyter Widget of type <code>HBox</code>.</p>\n",
       "<p>\n",
       "  If you're reading this message in the Jupyter Notebook or JupyterLab Notebook, it may mean\n",
       "  that the widgets JavaScript is still loading. If this message persists, it\n",
       "  likely means that the widgets JavaScript library is either not installed or\n",
       "  not enabled. See the <a href=\"https://ipywidgets.readthedocs.io/en/stable/user_install.html\">Jupyter\n",
       "  Widgets Documentation</a> for setup instructions.\n",
       "</p>\n",
       "<p>\n",
       "  If you're reading this message in another frontend (for example, a static\n",
       "  rendering on GitHub or <a href=\"https://nbviewer.jupyter.org/\">NBViewer</a>),\n",
       "  it may mean that your frontend doesn't currently support widgets.\n",
       "</p>\n"
      ],
      "text/plain": [
       "HBox(children=(IntProgress(value=0, description='Epoch', max=5), HTML(value='')))"
      ]
     },
     "metadata": {},
     "output_type": "display_data"
    },
    {
     "name": "stdout",
     "output_type": "stream",
     "text": [
      "epoch      trn_loss   val_loss   exp_rmspe                 \n",
      "    0      1.365133   5.620534   0.906591  \n",
      "    1      1.288376   7.008145   0.929157                  \n",
      "    2      1.167706   3.608564   0.850375                  \n",
      "    3      1.064974   6.468019   0.921388                  \n",
      "    4      1.05314    6.464726   0.921337                  \n",
      "\n"
     ]
    },
    {
     "data": {
      "text/plain": [
       "[6.464726, 0.921337003028681]"
      ]
     },
     "execution_count": 104,
     "metadata": {},
     "output_type": "execute_result"
    }
   ],
   "source": [
    "m.fit(lr, 5, metrics=[exp_rmspe])"
   ]
  },
  {
   "cell_type": "code",
   "execution_count": 105,
   "metadata": {},
   "outputs": [
    {
     "data": {
      "application/vnd.jupyter.widget-view+json": {
       "model_id": "6fee48e18bdb414e9e95326e778b34e2",
       "version_major": 2,
       "version_minor": 0
      },
      "text/html": [
       "<p>Failed to display Jupyter Widget of type <code>HBox</code>.</p>\n",
       "<p>\n",
       "  If you're reading this message in the Jupyter Notebook or JupyterLab Notebook, it may mean\n",
       "  that the widgets JavaScript is still loading. If this message persists, it\n",
       "  likely means that the widgets JavaScript library is either not installed or\n",
       "  not enabled. See the <a href=\"https://ipywidgets.readthedocs.io/en/stable/user_install.html\">Jupyter\n",
       "  Widgets Documentation</a> for setup instructions.\n",
       "</p>\n",
       "<p>\n",
       "  If you're reading this message in another frontend (for example, a static\n",
       "  rendering on GitHub or <a href=\"https://nbviewer.jupyter.org/\">NBViewer</a>),\n",
       "  it may mean that your frontend doesn't currently support widgets.\n",
       "</p>\n"
      ],
      "text/plain": [
       "HBox(children=(IntProgress(value=0, description='Epoch', max=3), HTML(value='')))"
      ]
     },
     "metadata": {},
     "output_type": "display_data"
    },
    {
     "name": "stdout",
     "output_type": "stream",
     "text": [
      "epoch      trn_loss   val_loss   exp_rmspe                  \n",
      "    0      0.975882   6.157306   0.916373  \n",
      "    1      0.851806   8.089388   0.941818                   \n",
      "    2      0.771552   8.395683   0.944841                   \n",
      "\n"
     ]
    },
    {
     "data": {
      "text/plain": [
       "[8.395683, 0.9448407154466648]"
      ]
     },
     "execution_count": 105,
     "metadata": {},
     "output_type": "execute_result"
    }
   ],
   "source": [
    "m.fit(lr, 3, metrics=[exp_rmspe], cycle_len=1)"
   ]
  },
  {
   "cell_type": "code",
   "execution_count": 106,
   "metadata": {},
   "outputs": [],
   "source": [
    "m.save('val0')"
   ]
  },
  {
   "cell_type": "code",
   "execution_count": 107,
   "metadata": {},
   "outputs": [],
   "source": [
    "m.load('val0')"
   ]
  },
  {
   "cell_type": "code",
   "execution_count": 108,
   "metadata": {},
   "outputs": [],
   "source": [
    "x,y=m.predict_with_targs()"
   ]
  },
  {
   "cell_type": "code",
   "execution_count": 109,
   "metadata": {},
   "outputs": [
    {
     "data": {
      "text/plain": [
       "0.9448407154466648"
      ]
     },
     "execution_count": 109,
     "metadata": {},
     "output_type": "execute_result"
    }
   ],
   "source": [
    "exp_rmspe(x,y)"
   ]
  },
  {
   "cell_type": "code",
   "execution_count": 110,
   "metadata": {},
   "outputs": [],
   "source": [
    "pred_test=m.predict(True)"
   ]
  },
  {
   "cell_type": "code",
   "execution_count": 111,
   "metadata": {},
   "outputs": [],
   "source": [
    "pred_test = np.exp(pred_test)"
   ]
  },
  {
   "cell_type": "code",
   "execution_count": 112,
   "metadata": {},
   "outputs": [],
   "source": [
    "joined_test['target']=pred_test"
   ]
  },
  {
   "cell_type": "code",
   "execution_count": 114,
   "metadata": {},
   "outputs": [],
   "source": [
    "csv_fn=f'{PATH}tmp/sub1.csv'"
   ]
  },
  {
   "cell_type": "code",
   "execution_count": 115,
   "metadata": {},
   "outputs": [],
   "source": [
    "joined_test[['ID','target']].to_csv(csv_fn, index=False)"
   ]
  },
  {
   "cell_type": "code",
   "execution_count": 116,
   "metadata": {},
   "outputs": [
    {
     "data": {
      "text/html": [
       "<a href='/home/paperspace/santander/tmp/sub1.csv' target='_blank'>/home/paperspace/santander/tmp/sub1.csv</a><br>"
      ],
      "text/plain": [
       "/home/paperspace/santander/tmp/sub1.csv"
      ]
     },
     "execution_count": 116,
     "metadata": {},
     "output_type": "execute_result"
    }
   ],
   "source": [
    "FileLink(csv_fn)"
   ]
  },
  {
   "cell_type": "code",
   "execution_count": null,
   "metadata": {},
   "outputs": [],
   "source": []
  }
 ],
 "metadata": {
  "kernelspec": {
   "display_name": "Python 3",
   "language": "python",
   "name": "python3"
  },
  "language_info": {
   "codemirror_mode": {
    "name": "ipython",
    "version": 3
   },
   "file_extension": ".py",
   "mimetype": "text/x-python",
   "name": "python",
   "nbconvert_exporter": "python",
   "pygments_lexer": "ipython3",
   "version": "3.6.4"
  }
 },
 "nbformat": 4,
 "nbformat_minor": 1
}
